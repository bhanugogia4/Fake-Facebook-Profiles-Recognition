{
 "cells": [
  {
   "cell_type": "code",
   "execution_count": 1,
   "metadata": {},
   "outputs": [],
   "source": [
    "\n",
    "import pandas as pd\n",
    "import seaborn as sns\n",
    "from sklearn.svm import SVC\n",
    "from sklearn.naive_bayes import GaussianNB\n",
    "from sklearn.model_selection import train_test_split\n",
    "import numpy as np\n",
    "from sklearn.preprocessing import LabelEncoder\n",
    "from sklearn.ensemble import RandomForestClassifier\n",
    "import matplotlib.pyplot as plt\n",
    "from sklearn.metrics import confusion_matrix\n",
    "import sklearn\n",
    "from sklearn.feature_extraction.text import TfidfVectorizer"
   ]
  },
  {
   "cell_type": "code",
   "execution_count": 2,
   "metadata": {},
   "outputs": [],
   "source": [
    "real_users=pd.read_csv(r'data\\users.csv')"
   ]
  },
  {
   "cell_type": "code",
   "execution_count": 3,
   "metadata": {},
   "outputs": [],
   "source": [
    "fake_users=pd.read_csv(r'data\\fusers.csv')"
   ]
  },
  {
   "cell_type": "code",
   "execution_count": 4,
   "metadata": {},
   "outputs": [],
   "source": [
    "real_users['user_type']=[1 for i in range(real_users.shape[0])]"
   ]
  },
  {
   "cell_type": "code",
   "execution_count": 5,
   "metadata": {},
   "outputs": [
    {
     "data": {
      "text/html": [
       "<div>\n",
       "<style scoped>\n",
       "    .dataframe tbody tr th:only-of-type {\n",
       "        vertical-align: middle;\n",
       "    }\n",
       "\n",
       "    .dataframe tbody tr th {\n",
       "        vertical-align: top;\n",
       "    }\n",
       "\n",
       "    .dataframe thead th {\n",
       "        text-align: right;\n",
       "    }\n",
       "</style>\n",
       "<table border=\"1\" class=\"dataframe\">\n",
       "  <thead>\n",
       "    <tr style=\"text-align: right;\">\n",
       "      <th></th>\n",
       "      <th>id</th>\n",
       "      <th>name</th>\n",
       "      <th>screen_name</th>\n",
       "      <th>statuses_count</th>\n",
       "      <th>followers_count</th>\n",
       "      <th>friends_count</th>\n",
       "      <th>favourites_count</th>\n",
       "      <th>listed_count</th>\n",
       "      <th>created_at</th>\n",
       "      <th>url</th>\n",
       "      <th>...</th>\n",
       "      <th>profile_background_image_url</th>\n",
       "      <th>profile_background_color</th>\n",
       "      <th>profile_link_color</th>\n",
       "      <th>utc_offset</th>\n",
       "      <th>protected</th>\n",
       "      <th>verified</th>\n",
       "      <th>description</th>\n",
       "      <th>updated</th>\n",
       "      <th>dataset</th>\n",
       "      <th>user_type</th>\n",
       "    </tr>\n",
       "  </thead>\n",
       "  <tbody>\n",
       "    <tr>\n",
       "      <td>0</td>\n",
       "      <td>3610511</td>\n",
       "      <td>Davide Dellacasa</td>\n",
       "      <td>braddd</td>\n",
       "      <td>20370</td>\n",
       "      <td>5470</td>\n",
       "      <td>2385</td>\n",
       "      <td>145</td>\n",
       "      <td>52</td>\n",
       "      <td>Fri Apr 06 10:58:22 +0000 2007</td>\n",
       "      <td>http://braddd.tumblr.com</td>\n",
       "      <td>...</td>\n",
       "      <td>http://a0.twimg.com/profile_background_images/...</td>\n",
       "      <td>BADFCD</td>\n",
       "      <td>FF0000</td>\n",
       "      <td>3600.0</td>\n",
       "      <td>NaN</td>\n",
       "      <td>NaN</td>\n",
       "      <td>Founder of http://www.screenweek.it &amp; http://w...</td>\n",
       "      <td>2015-02-14 10:54:49</td>\n",
       "      <td>E13</td>\n",
       "      <td>1</td>\n",
       "    </tr>\n",
       "    <tr>\n",
       "      <td>1</td>\n",
       "      <td>5656162</td>\n",
       "      <td>Simone Economo</td>\n",
       "      <td>eKoeS</td>\n",
       "      <td>3131</td>\n",
       "      <td>506</td>\n",
       "      <td>381</td>\n",
       "      <td>9</td>\n",
       "      <td>40</td>\n",
       "      <td>Mon Apr 30 15:08:42 +0000 2007</td>\n",
       "      <td>http://www.lineheight.net/</td>\n",
       "      <td>...</td>\n",
       "      <td>http://a0.twimg.com/images/themes/theme1/bg.png</td>\n",
       "      <td>C0DEED</td>\n",
       "      <td>0084B4</td>\n",
       "      <td>3600.0</td>\n",
       "      <td>NaN</td>\n",
       "      <td>NaN</td>\n",
       "      <td>BSc degree (cum laude) in Computer Engineering...</td>\n",
       "      <td>2015-02-14 10:54:49</td>\n",
       "      <td>E13</td>\n",
       "      <td>1</td>\n",
       "    </tr>\n",
       "    <tr>\n",
       "      <td>2</td>\n",
       "      <td>5682702</td>\n",
       "      <td>tacone</td>\n",
       "      <td>tacone_</td>\n",
       "      <td>4024</td>\n",
       "      <td>264</td>\n",
       "      <td>87</td>\n",
       "      <td>323</td>\n",
       "      <td>16</td>\n",
       "      <td>Tue May 01 11:53:40 +0000 2007</td>\n",
       "      <td>http://t.co/LKrl1dZE</td>\n",
       "      <td>...</td>\n",
       "      <td>http://a0.twimg.com/profile_background_images/...</td>\n",
       "      <td>1A1B1F</td>\n",
       "      <td>2FC2EF</td>\n",
       "      <td>3600.0</td>\n",
       "      <td>NaN</td>\n",
       "      <td>NaN</td>\n",
       "      <td>Cogito ergo bestemmio.</td>\n",
       "      <td>2015-02-14 10:54:49</td>\n",
       "      <td>E13</td>\n",
       "      <td>1</td>\n",
       "    </tr>\n",
       "    <tr>\n",
       "      <td>3</td>\n",
       "      <td>6067292</td>\n",
       "      <td>alesaura</td>\n",
       "      <td>alesstar</td>\n",
       "      <td>40586</td>\n",
       "      <td>640</td>\n",
       "      <td>622</td>\n",
       "      <td>1118</td>\n",
       "      <td>32</td>\n",
       "      <td>Tue May 15 16:55:16 +0000 2007</td>\n",
       "      <td>http://alesstar.wordpress.com/</td>\n",
       "      <td>...</td>\n",
       "      <td>http://a0.twimg.com/images/themes/theme4/bg.gif</td>\n",
       "      <td>0099B9</td>\n",
       "      <td>0099B9</td>\n",
       "      <td>3600.0</td>\n",
       "      <td>NaN</td>\n",
       "      <td>NaN</td>\n",
       "      <td>Se la vita ti dà sarde, scapocciale!</td>\n",
       "      <td>2015-02-14 10:54:49</td>\n",
       "      <td>E13</td>\n",
       "      <td>1</td>\n",
       "    </tr>\n",
       "    <tr>\n",
       "      <td>4</td>\n",
       "      <td>6015122</td>\n",
       "      <td>Angelo</td>\n",
       "      <td>PerDiletto</td>\n",
       "      <td>2016</td>\n",
       "      <td>62</td>\n",
       "      <td>64</td>\n",
       "      <td>13</td>\n",
       "      <td>0</td>\n",
       "      <td>Sun May 13 19:52:00 +0000 2007</td>\n",
       "      <td>http://www.flickr.com/per_diletto</td>\n",
       "      <td>...</td>\n",
       "      <td>http://a0.twimg.com/images/themes/theme18/bg.gif</td>\n",
       "      <td>ACDED6</td>\n",
       "      <td>038543</td>\n",
       "      <td>3600.0</td>\n",
       "      <td>NaN</td>\n",
       "      <td>NaN</td>\n",
       "      <td>Je me souviens</td>\n",
       "      <td>2015-02-14 10:54:49</td>\n",
       "      <td>E13</td>\n",
       "      <td>1</td>\n",
       "    </tr>\n",
       "  </tbody>\n",
       "</table>\n",
       "<p>5 rows × 35 columns</p>\n",
       "</div>"
      ],
      "text/plain": [
       "        id              name screen_name  statuses_count  followers_count  \\\n",
       "0  3610511  Davide Dellacasa      braddd           20370             5470   \n",
       "1  5656162    Simone Economo       eKoeS            3131              506   \n",
       "2  5682702            tacone     tacone_            4024              264   \n",
       "3  6067292          alesaura    alesstar           40586              640   \n",
       "4  6015122            Angelo  PerDiletto            2016               62   \n",
       "\n",
       "   friends_count  favourites_count  listed_count  \\\n",
       "0           2385               145            52   \n",
       "1            381                 9            40   \n",
       "2             87               323            16   \n",
       "3            622              1118            32   \n",
       "4             64                13             0   \n",
       "\n",
       "                       created_at                                url  ...  \\\n",
       "0  Fri Apr 06 10:58:22 +0000 2007           http://braddd.tumblr.com  ...   \n",
       "1  Mon Apr 30 15:08:42 +0000 2007         http://www.lineheight.net/  ...   \n",
       "2  Tue May 01 11:53:40 +0000 2007               http://t.co/LKrl1dZE  ...   \n",
       "3  Tue May 15 16:55:16 +0000 2007     http://alesstar.wordpress.com/  ...   \n",
       "4  Sun May 13 19:52:00 +0000 2007  http://www.flickr.com/per_diletto  ...   \n",
       "\n",
       "                        profile_background_image_url profile_background_color  \\\n",
       "0  http://a0.twimg.com/profile_background_images/...                   BADFCD   \n",
       "1    http://a0.twimg.com/images/themes/theme1/bg.png                   C0DEED   \n",
       "2  http://a0.twimg.com/profile_background_images/...                   1A1B1F   \n",
       "3    http://a0.twimg.com/images/themes/theme4/bg.gif                   0099B9   \n",
       "4   http://a0.twimg.com/images/themes/theme18/bg.gif                   ACDED6   \n",
       "\n",
       "  profile_link_color  utc_offset  protected  verified  \\\n",
       "0             FF0000      3600.0        NaN       NaN   \n",
       "1             0084B4      3600.0        NaN       NaN   \n",
       "2             2FC2EF      3600.0        NaN       NaN   \n",
       "3             0099B9      3600.0        NaN       NaN   \n",
       "4             038543      3600.0        NaN       NaN   \n",
       "\n",
       "                                         description              updated  \\\n",
       "0  Founder of http://www.screenweek.it & http://w...  2015-02-14 10:54:49   \n",
       "1  BSc degree (cum laude) in Computer Engineering...  2015-02-14 10:54:49   \n",
       "2                             Cogito ergo bestemmio.  2015-02-14 10:54:49   \n",
       "3               Se la vita ti dà sarde, scapocciale!  2015-02-14 10:54:49   \n",
       "4                                     Je me souviens  2015-02-14 10:54:49   \n",
       "\n",
       "   dataset user_type  \n",
       "0      E13         1  \n",
       "1      E13         1  \n",
       "2      E13         1  \n",
       "3      E13         1  \n",
       "4      E13         1  \n",
       "\n",
       "[5 rows x 35 columns]"
      ]
     },
     "execution_count": 5,
     "metadata": {},
     "output_type": "execute_result"
    }
   ],
   "source": [
    "real_users.head()"
   ]
  },
  {
   "cell_type": "code",
   "execution_count": 6,
   "metadata": {},
   "outputs": [
    {
     "data": {
      "text/plain": [
       "id                                       0\n",
       "name                                     0\n",
       "screen_name                              0\n",
       "statuses_count                           0\n",
       "followers_count                          0\n",
       "friends_count                            0\n",
       "favourites_count                         0\n",
       "listed_count                             0\n",
       "created_at                               0\n",
       "url                                   1018\n",
       "lang                                     0\n",
       "time_zone                              418\n",
       "location                               492\n",
       "default_profile                       1084\n",
       "default_profile_image                 1477\n",
       "geo_enabled                            762\n",
       "profile_image_url                        0\n",
       "profile_banner_url                     496\n",
       "profile_use_background_image            58\n",
       "profile_background_image_url_https       0\n",
       "profile_text_color                       0\n",
       "profile_image_url_https                  0\n",
       "profile_sidebar_border_color             0\n",
       "profile_background_tile                995\n",
       "profile_sidebar_fill_color               0\n",
       "profile_background_image_url             0\n",
       "profile_background_color                 0\n",
       "profile_link_color                       0\n",
       "utc_offset                             418\n",
       "protected                             1481\n",
       "verified                              1481\n",
       "description                             18\n",
       "updated                                  0\n",
       "dataset                                  0\n",
       "user_type                                0\n",
       "dtype: int64"
      ]
     },
     "execution_count": 6,
     "metadata": {},
     "output_type": "execute_result"
    }
   ],
   "source": [
    "real_users.isnull().sum()"
   ]
  },
  {
   "cell_type": "code",
   "execution_count": 7,
   "metadata": {},
   "outputs": [],
   "source": [
    "real_users.fillna('',inplace=True)"
   ]
  },
  {
   "cell_type": "code",
   "execution_count": 8,
   "metadata": {},
   "outputs": [
    {
     "data": {
      "text/plain": [
       "id                                    0\n",
       "name                                  0\n",
       "screen_name                           0\n",
       "statuses_count                        0\n",
       "followers_count                       0\n",
       "friends_count                         0\n",
       "favourites_count                      0\n",
       "listed_count                          0\n",
       "created_at                            0\n",
       "url                                   0\n",
       "lang                                  0\n",
       "time_zone                             0\n",
       "location                              0\n",
       "default_profile                       0\n",
       "default_profile_image                 0\n",
       "geo_enabled                           0\n",
       "profile_image_url                     0\n",
       "profile_banner_url                    0\n",
       "profile_use_background_image          0\n",
       "profile_background_image_url_https    0\n",
       "profile_text_color                    0\n",
       "profile_image_url_https               0\n",
       "profile_sidebar_border_color          0\n",
       "profile_background_tile               0\n",
       "profile_sidebar_fill_color            0\n",
       "profile_background_image_url          0\n",
       "profile_background_color              0\n",
       "profile_link_color                    0\n",
       "utc_offset                            0\n",
       "protected                             0\n",
       "verified                              0\n",
       "description                           0\n",
       "updated                               0\n",
       "dataset                               0\n",
       "user_type                             0\n",
       "dtype: int64"
      ]
     },
     "execution_count": 8,
     "metadata": {},
     "output_type": "execute_result"
    }
   ],
   "source": [
    "real_users.isnull().sum()"
   ]
  },
  {
   "cell_type": "code",
   "execution_count": 9,
   "metadata": {},
   "outputs": [],
   "source": [
    "fake_users['user_type']=[0 for i in range(fake_users.shape[0])]"
   ]
  },
  {
   "cell_type": "code",
   "execution_count": 10,
   "metadata": {},
   "outputs": [
    {
     "data": {
      "text/html": [
       "<div>\n",
       "<style scoped>\n",
       "    .dataframe tbody tr th:only-of-type {\n",
       "        vertical-align: middle;\n",
       "    }\n",
       "\n",
       "    .dataframe tbody tr th {\n",
       "        vertical-align: top;\n",
       "    }\n",
       "\n",
       "    .dataframe thead th {\n",
       "        text-align: right;\n",
       "    }\n",
       "</style>\n",
       "<table border=\"1\" class=\"dataframe\">\n",
       "  <thead>\n",
       "    <tr style=\"text-align: right;\">\n",
       "      <th></th>\n",
       "      <th>id</th>\n",
       "      <th>name</th>\n",
       "      <th>screen_name</th>\n",
       "      <th>statuses_count</th>\n",
       "      <th>followers_count</th>\n",
       "      <th>friends_count</th>\n",
       "      <th>favourites_count</th>\n",
       "      <th>listed_count</th>\n",
       "      <th>created_at</th>\n",
       "      <th>url</th>\n",
       "      <th>...</th>\n",
       "      <th>profile_background_image_url</th>\n",
       "      <th>profile_background_color</th>\n",
       "      <th>profile_link_color</th>\n",
       "      <th>utc_offset</th>\n",
       "      <th>protected</th>\n",
       "      <th>verified</th>\n",
       "      <th>description</th>\n",
       "      <th>updated</th>\n",
       "      <th>dataset</th>\n",
       "      <th>user_type</th>\n",
       "    </tr>\n",
       "  </thead>\n",
       "  <tbody>\n",
       "    <tr>\n",
       "      <td>0</td>\n",
       "      <td>370098498</td>\n",
       "      <td>pirfectmoses</td>\n",
       "      <td>pirfectmoses</td>\n",
       "      <td>24</td>\n",
       "      <td>4</td>\n",
       "      <td>588</td>\n",
       "      <td>16</td>\n",
       "      <td>0</td>\n",
       "      <td>Thu Sep 08 13:20:35 +0000 2011</td>\n",
       "      <td>NaN</td>\n",
       "      <td>...</td>\n",
       "      <td>http://a0.twimg.com/profile_background_images/...</td>\n",
       "      <td>C6E2EE</td>\n",
       "      <td>1F98C7</td>\n",
       "      <td>NaN</td>\n",
       "      <td>NaN</td>\n",
       "      <td>NaN</td>\n",
       "      <td>NaN</td>\n",
       "      <td>2015-02-14 10:40:01</td>\n",
       "      <td>INT</td>\n",
       "      <td>0</td>\n",
       "    </tr>\n",
       "    <tr>\n",
       "      <td>1</td>\n",
       "      <td>37384589</td>\n",
       "      <td>SAK Nair</td>\n",
       "      <td>bsknair1967</td>\n",
       "      <td>656</td>\n",
       "      <td>57</td>\n",
       "      <td>693</td>\n",
       "      <td>597</td>\n",
       "      <td>0</td>\n",
       "      <td>Sun May 03 07:35:13 +0000 2009</td>\n",
       "      <td>NaN</td>\n",
       "      <td>...</td>\n",
       "      <td>http://a0.twimg.com/images/themes/theme1/bg.png</td>\n",
       "      <td>C0DEED</td>\n",
       "      <td>0084B4</td>\n",
       "      <td>NaN</td>\n",
       "      <td>NaN</td>\n",
       "      <td>NaN</td>\n",
       "      <td>in Kuwait with my buetiful family.</td>\n",
       "      <td>2015-02-14 10:40:01</td>\n",
       "      <td>INT</td>\n",
       "      <td>0</td>\n",
       "    </tr>\n",
       "    <tr>\n",
       "      <td>2</td>\n",
       "      <td>72110028</td>\n",
       "      <td>Deepak</td>\n",
       "      <td>dedjven</td>\n",
       "      <td>1234</td>\n",
       "      <td>15</td>\n",
       "      <td>104</td>\n",
       "      <td>1150</td>\n",
       "      <td>0</td>\n",
       "      <td>Sun Sep 06 19:50:08 +0000 2009</td>\n",
       "      <td>NaN</td>\n",
       "      <td>...</td>\n",
       "      <td>http://a0.twimg.com/images/themes/theme14/bg.gif</td>\n",
       "      <td>131516</td>\n",
       "      <td>009999</td>\n",
       "      <td>-39600.0</td>\n",
       "      <td>NaN</td>\n",
       "      <td>NaN</td>\n",
       "      <td>NaN</td>\n",
       "      <td>2015-02-14 10:40:01</td>\n",
       "      <td>INT</td>\n",
       "      <td>0</td>\n",
       "    </tr>\n",
       "    <tr>\n",
       "      <td>3</td>\n",
       "      <td>82885728</td>\n",
       "      <td>Marcos Vinicius</td>\n",
       "      <td>BrowAlves</td>\n",
       "      <td>573</td>\n",
       "      <td>14</td>\n",
       "      <td>227</td>\n",
       "      <td>530</td>\n",
       "      <td>0</td>\n",
       "      <td>Fri Oct 16 14:02:48 +0000 2009</td>\n",
       "      <td>NaN</td>\n",
       "      <td>...</td>\n",
       "      <td>http://a0.twimg.com/profile_background_images/...</td>\n",
       "      <td>C0DEED</td>\n",
       "      <td>0084B4</td>\n",
       "      <td>NaN</td>\n",
       "      <td>NaN</td>\n",
       "      <td>NaN</td>\n",
       "      <td>NaN</td>\n",
       "      <td>2015-02-14 10:40:01</td>\n",
       "      <td>INT</td>\n",
       "      <td>0</td>\n",
       "    </tr>\n",
       "    <tr>\n",
       "      <td>4</td>\n",
       "      <td>110120789</td>\n",
       "      <td>Shri Kant Kanaujia</td>\n",
       "      <td>kanaujiask</td>\n",
       "      <td>675</td>\n",
       "      <td>18</td>\n",
       "      <td>519</td>\n",
       "      <td>653</td>\n",
       "      <td>0</td>\n",
       "      <td>Sun Jan 31 12:08:41 +0000 2010</td>\n",
       "      <td>NaN</td>\n",
       "      <td>...</td>\n",
       "      <td>http://a0.twimg.com/images/themes/theme1/bg.png</td>\n",
       "      <td>C0DEED</td>\n",
       "      <td>0084B4</td>\n",
       "      <td>19800.0</td>\n",
       "      <td>NaN</td>\n",
       "      <td>NaN</td>\n",
       "      <td>NaN</td>\n",
       "      <td>2015-02-14 10:40:01</td>\n",
       "      <td>INT</td>\n",
       "      <td>0</td>\n",
       "    </tr>\n",
       "  </tbody>\n",
       "</table>\n",
       "<p>5 rows × 35 columns</p>\n",
       "</div>"
      ],
      "text/plain": [
       "          id                name   screen_name  statuses_count  \\\n",
       "0  370098498        pirfectmoses  pirfectmoses              24   \n",
       "1   37384589            SAK Nair   bsknair1967             656   \n",
       "2   72110028              Deepak       dedjven            1234   \n",
       "3   82885728     Marcos Vinicius     BrowAlves             573   \n",
       "4  110120789  Shri Kant Kanaujia    kanaujiask             675   \n",
       "\n",
       "   followers_count  friends_count  favourites_count  listed_count  \\\n",
       "0                4            588                16             0   \n",
       "1               57            693               597             0   \n",
       "2               15            104              1150             0   \n",
       "3               14            227               530             0   \n",
       "4               18            519               653             0   \n",
       "\n",
       "                       created_at  url  ...  \\\n",
       "0  Thu Sep 08 13:20:35 +0000 2011  NaN  ...   \n",
       "1  Sun May 03 07:35:13 +0000 2009  NaN  ...   \n",
       "2  Sun Sep 06 19:50:08 +0000 2009  NaN  ...   \n",
       "3  Fri Oct 16 14:02:48 +0000 2009  NaN  ...   \n",
       "4  Sun Jan 31 12:08:41 +0000 2010  NaN  ...   \n",
       "\n",
       "                        profile_background_image_url profile_background_color  \\\n",
       "0  http://a0.twimg.com/profile_background_images/...                   C6E2EE   \n",
       "1    http://a0.twimg.com/images/themes/theme1/bg.png                   C0DEED   \n",
       "2   http://a0.twimg.com/images/themes/theme14/bg.gif                   131516   \n",
       "3  http://a0.twimg.com/profile_background_images/...                   C0DEED   \n",
       "4    http://a0.twimg.com/images/themes/theme1/bg.png                   C0DEED   \n",
       "\n",
       "  profile_link_color  utc_offset  protected  verified  \\\n",
       "0             1F98C7         NaN        NaN       NaN   \n",
       "1             0084B4         NaN        NaN       NaN   \n",
       "2             009999    -39600.0        NaN       NaN   \n",
       "3             0084B4         NaN        NaN       NaN   \n",
       "4             0084B4     19800.0        NaN       NaN   \n",
       "\n",
       "                          description              updated  dataset user_type  \n",
       "0                                 NaN  2015-02-14 10:40:01      INT         0  \n",
       "1  in Kuwait with my buetiful family.  2015-02-14 10:40:01      INT         0  \n",
       "2                                 NaN  2015-02-14 10:40:01      INT         0  \n",
       "3                                 NaN  2015-02-14 10:40:01      INT         0  \n",
       "4                                 NaN  2015-02-14 10:40:01      INT         0  \n",
       "\n",
       "[5 rows x 35 columns]"
      ]
     },
     "execution_count": 10,
     "metadata": {},
     "output_type": "execute_result"
    }
   ],
   "source": [
    "fake_users.head()"
   ]
  },
  {
   "cell_type": "code",
   "execution_count": 11,
   "metadata": {},
   "outputs": [],
   "source": [
    "fake_users.fillna('',inplace=True)"
   ]
  },
  {
   "cell_type": "code",
   "execution_count": 12,
   "metadata": {},
   "outputs": [],
   "source": [
    "users=pd.concat([real_users,fake_users],axis=0)"
   ]
  },
  {
   "cell_type": "code",
   "execution_count": 13,
   "metadata": {},
   "outputs": [],
   "source": [
    "Users=sklearn.utils.shuffle(users)"
   ]
  },
  {
   "cell_type": "code",
   "execution_count": 14,
   "metadata": {},
   "outputs": [
    {
     "data": {
      "text/html": [
       "<div>\n",
       "<style scoped>\n",
       "    .dataframe tbody tr th:only-of-type {\n",
       "        vertical-align: middle;\n",
       "    }\n",
       "\n",
       "    .dataframe tbody tr th {\n",
       "        vertical-align: top;\n",
       "    }\n",
       "\n",
       "    .dataframe thead th {\n",
       "        text-align: right;\n",
       "    }\n",
       "</style>\n",
       "<table border=\"1\" class=\"dataframe\">\n",
       "  <thead>\n",
       "    <tr style=\"text-align: right;\">\n",
       "      <th></th>\n",
       "      <th>id</th>\n",
       "      <th>name</th>\n",
       "      <th>screen_name</th>\n",
       "      <th>statuses_count</th>\n",
       "      <th>followers_count</th>\n",
       "      <th>friends_count</th>\n",
       "      <th>favourites_count</th>\n",
       "      <th>listed_count</th>\n",
       "      <th>created_at</th>\n",
       "      <th>url</th>\n",
       "      <th>...</th>\n",
       "      <th>profile_background_image_url</th>\n",
       "      <th>profile_background_color</th>\n",
       "      <th>profile_link_color</th>\n",
       "      <th>utc_offset</th>\n",
       "      <th>protected</th>\n",
       "      <th>verified</th>\n",
       "      <th>description</th>\n",
       "      <th>updated</th>\n",
       "      <th>dataset</th>\n",
       "      <th>user_type</th>\n",
       "    </tr>\n",
       "  </thead>\n",
       "  <tbody>\n",
       "    <tr>\n",
       "      <td>419</td>\n",
       "      <td>199147059</td>\n",
       "      <td>Francesco Calaprice</td>\n",
       "      <td>Kekkodux</td>\n",
       "      <td>30</td>\n",
       "      <td>9</td>\n",
       "      <td>37</td>\n",
       "      <td>0</td>\n",
       "      <td>0</td>\n",
       "      <td>Wed Oct 06 04:18:21 +0000 2010</td>\n",
       "      <td></td>\n",
       "      <td>...</td>\n",
       "      <td>http://a0.twimg.com/images/themes/theme1/bg.png</td>\n",
       "      <td>C0DEED</td>\n",
       "      <td>0084B4</td>\n",
       "      <td></td>\n",
       "      <td></td>\n",
       "      <td></td>\n",
       "      <td>esperto in informatica e prodotti di hi-tech.</td>\n",
       "      <td>2015-02-14 10:54:49</td>\n",
       "      <td>E13</td>\n",
       "      <td>1</td>\n",
       "    </tr>\n",
       "    <tr>\n",
       "      <td>193</td>\n",
       "      <td>76286424</td>\n",
       "      <td>Namaste</td>\n",
       "      <td>jole_bee</td>\n",
       "      <td>6212</td>\n",
       "      <td>369</td>\n",
       "      <td>198</td>\n",
       "      <td>103</td>\n",
       "      <td>5</td>\n",
       "      <td>Tue Sep 22 08:48:06 +0000 2009</td>\n",
       "      <td></td>\n",
       "      <td>...</td>\n",
       "      <td>http://a0.twimg.com/profile_background_images/...</td>\n",
       "      <td>E1E6E8</td>\n",
       "      <td>B30048</td>\n",
       "      <td>3600</td>\n",
       "      <td></td>\n",
       "      <td></td>\n",
       "      <td>Non so quello che dico,ma lo dico veramente be...</td>\n",
       "      <td>2015-02-14 10:54:49</td>\n",
       "      <td>E13</td>\n",
       "      <td>1</td>\n",
       "    </tr>\n",
       "    <tr>\n",
       "      <td>388</td>\n",
       "      <td>616306719</td>\n",
       "      <td>Mica Spence</td>\n",
       "      <td>micaspencecghbb</td>\n",
       "      <td>53</td>\n",
       "      <td>15</td>\n",
       "      <td>578</td>\n",
       "      <td>0</td>\n",
       "      <td>0</td>\n",
       "      <td>Sat Jun 23 15:54:54 +0000 2012</td>\n",
       "      <td></td>\n",
       "      <td>...</td>\n",
       "      <td>http://a0.twimg.com/images/themes/theme1/bg.png</td>\n",
       "      <td>C0DEED</td>\n",
       "      <td>0084B4</td>\n",
       "      <td></td>\n",
       "      <td></td>\n",
       "      <td></td>\n",
       "      <td>i like gettin money,girls,soppin and hoopin ll...</td>\n",
       "      <td>2015-02-14 10:40:01</td>\n",
       "      <td>INT</td>\n",
       "      <td>0</td>\n",
       "    </tr>\n",
       "    <tr>\n",
       "      <td>150</td>\n",
       "      <td>57365720</td>\n",
       "      <td></td>\n",
       "      <td>acimoto</td>\n",
       "      <td>6351</td>\n",
       "      <td>98</td>\n",
       "      <td>75</td>\n",
       "      <td>127</td>\n",
       "      <td>4</td>\n",
       "      <td>Thu Jul 16 15:48:10 +0000 2009</td>\n",
       "      <td>http://byoblu.com</td>\n",
       "      <td>...</td>\n",
       "      <td>http://a0.twimg.com/images/themes/theme1/bg.png</td>\n",
       "      <td>C0DEED</td>\n",
       "      <td>0084B4</td>\n",
       "      <td>3600</td>\n",
       "      <td></td>\n",
       "      <td></td>\n",
       "      <td>N.1</td>\n",
       "      <td>2015-02-14 10:54:49</td>\n",
       "      <td>E13</td>\n",
       "      <td>1</td>\n",
       "    </tr>\n",
       "    <tr>\n",
       "      <td>941</td>\n",
       "      <td>618262473</td>\n",
       "      <td>Willette Hayes</td>\n",
       "      <td>willettehay</td>\n",
       "      <td>30</td>\n",
       "      <td>16</td>\n",
       "      <td>273</td>\n",
       "      <td>0</td>\n",
       "      <td>0</td>\n",
       "      <td>Mon Jun 25 15:24:56 +0000 2012</td>\n",
       "      <td></td>\n",
       "      <td>...</td>\n",
       "      <td>http://a0.twimg.com/images/themes/theme1/bg.png</td>\n",
       "      <td>C0DEED</td>\n",
       "      <td>0084B4</td>\n",
       "      <td></td>\n",
       "      <td></td>\n",
       "      <td></td>\n",
       "      <td>I love t Act, Sing and Dance</td>\n",
       "      <td>2015-02-14 10:40:01</td>\n",
       "      <td>INT</td>\n",
       "      <td>0</td>\n",
       "    </tr>\n",
       "  </tbody>\n",
       "</table>\n",
       "<p>5 rows × 35 columns</p>\n",
       "</div>"
      ],
      "text/plain": [
       "            id                 name      screen_name  statuses_count  \\\n",
       "419  199147059  Francesco Calaprice         Kekkodux              30   \n",
       "193   76286424              Namaste         jole_bee            6212   \n",
       "388  616306719          Mica Spence  micaspencecghbb              53   \n",
       "150   57365720                              acimoto            6351   \n",
       "941  618262473       Willette Hayes      willettehay              30   \n",
       "\n",
       "     followers_count  friends_count  favourites_count  listed_count  \\\n",
       "419                9             37                 0             0   \n",
       "193              369            198               103             5   \n",
       "388               15            578                 0             0   \n",
       "150               98             75               127             4   \n",
       "941               16            273                 0             0   \n",
       "\n",
       "                         created_at                url  ...  \\\n",
       "419  Wed Oct 06 04:18:21 +0000 2010                     ...   \n",
       "193  Tue Sep 22 08:48:06 +0000 2009                     ...   \n",
       "388  Sat Jun 23 15:54:54 +0000 2012                     ...   \n",
       "150  Thu Jul 16 15:48:10 +0000 2009  http://byoblu.com  ...   \n",
       "941  Mon Jun 25 15:24:56 +0000 2012                     ...   \n",
       "\n",
       "                          profile_background_image_url  \\\n",
       "419    http://a0.twimg.com/images/themes/theme1/bg.png   \n",
       "193  http://a0.twimg.com/profile_background_images/...   \n",
       "388    http://a0.twimg.com/images/themes/theme1/bg.png   \n",
       "150    http://a0.twimg.com/images/themes/theme1/bg.png   \n",
       "941    http://a0.twimg.com/images/themes/theme1/bg.png   \n",
       "\n",
       "    profile_background_color profile_link_color utc_offset protected verified  \\\n",
       "419                   C0DEED             0084B4                                 \n",
       "193                   E1E6E8             B30048       3600                      \n",
       "388                   C0DEED             0084B4                                 \n",
       "150                   C0DEED             0084B4       3600                      \n",
       "941                   C0DEED             0084B4                                 \n",
       "\n",
       "                                           description              updated  \\\n",
       "419      esperto in informatica e prodotti di hi-tech.  2015-02-14 10:54:49   \n",
       "193  Non so quello che dico,ma lo dico veramente be...  2015-02-14 10:54:49   \n",
       "388  i like gettin money,girls,soppin and hoopin ll...  2015-02-14 10:40:01   \n",
       "150                                                N.1  2015-02-14 10:54:49   \n",
       "941                       I love t Act, Sing and Dance  2015-02-14 10:40:01   \n",
       "\n",
       "    dataset user_type  \n",
       "419     E13         1  \n",
       "193     E13         1  \n",
       "388     INT         0  \n",
       "150     E13         1  \n",
       "941     INT         0  \n",
       "\n",
       "[5 rows x 35 columns]"
      ]
     },
     "execution_count": 14,
     "metadata": {},
     "output_type": "execute_result"
    }
   ],
   "source": [
    "Users.head()"
   ]
  },
  {
   "cell_type": "code",
   "execution_count": 15,
   "metadata": {},
   "outputs": [],
   "source": [
    "Users_text=Users.copy(deep=True)"
   ]
  },
  {
   "cell_type": "code",
   "execution_count": 16,
   "metadata": {},
   "outputs": [],
   "source": [
    "cols=Users.columns"
   ]
  },
  {
   "cell_type": "code",
   "execution_count": 17,
   "metadata": {},
   "outputs": [
    {
     "data": {
      "text/plain": [
       "Index(['id', 'name', 'screen_name', 'statuses_count', 'followers_count',\n",
       "       'friends_count', 'favourites_count', 'listed_count', 'created_at',\n",
       "       'url', 'lang', 'time_zone', 'location', 'default_profile',\n",
       "       'default_profile_image', 'geo_enabled', 'profile_image_url',\n",
       "       'profile_banner_url', 'profile_use_background_image',\n",
       "       'profile_background_image_url_https', 'profile_text_color',\n",
       "       'profile_image_url_https', 'profile_sidebar_border_color',\n",
       "       'profile_background_tile', 'profile_sidebar_fill_color',\n",
       "       'profile_background_image_url', 'profile_background_color',\n",
       "       'profile_link_color', 'utc_offset', 'protected', 'verified',\n",
       "       'description', 'updated', 'dataset', 'user_type'],\n",
       "      dtype='object')"
      ]
     },
     "execution_count": 17,
     "metadata": {},
     "output_type": "execute_result"
    }
   ],
   "source": [
    "cols"
   ]
  },
  {
   "cell_type": "code",
   "execution_count": 18,
   "metadata": {},
   "outputs": [],
   "source": [
    "X=Users.drop(['time_zone','profile_use_background_image','dataset','profile_sidebar_border_color',\n",
    "             'profile_background_image_url_https','profile_background_color','profile_link_color','default_profile_image',\n",
    "             'time_zone','url'],axis=1)"
   ]
  },
  {
   "cell_type": "code",
   "execution_count": 19,
   "metadata": {},
   "outputs": [],
   "source": [
    "Y=Users['user_type']"
   ]
  },
  {
   "cell_type": "code",
   "execution_count": 20,
   "metadata": {},
   "outputs": [
    {
     "data": {
      "text/plain": [
       "<matplotlib.axes._subplots.AxesSubplot at 0x1fd694ec748>"
      ]
     },
     "execution_count": 20,
     "metadata": {},
     "output_type": "execute_result"
    },
    {
     "data": {
      "image/png": "[encoded data removed]",
      "text/plain": [
       "<Figure size 432x288 with 1 Axes>"
      ]
     },
     "metadata": {
      "needs_background": "light"
     },
     "output_type": "display_data"
    }
   ],
   "source": [
    "sns.countplot(Y)"
   ]
  },
  {
   "cell_type": "code",
   "execution_count": 21,
   "metadata": {},
   "outputs": [],
   "source": [
    "enc=LabelEncoder()\n",
    "Users1=Users\n",
    "for cols in Users.columns:\n",
    "    if(isinstance(Users[cols].values[0],str)):\n",
    "        try:\n",
    "            Users1[cols]=enc.fit_transform(Users[cols].values)\n",
    "        except:\n",
    "            Users1[cols]=np.zeros(Users[cols].values.shape[0])"
   ]
  },
  {
   "cell_type": "code",
   "execution_count": 22,
   "metadata": {},
   "outputs": [
    {
     "data": {
      "text/html": [
       "<div>\n",
       "<style scoped>\n",
       "    .dataframe tbody tr th:only-of-type {\n",
       "        vertical-align: middle;\n",
       "    }\n",
       "\n",
       "    .dataframe tbody tr th {\n",
       "        vertical-align: top;\n",
       "    }\n",
       "\n",
       "    .dataframe thead th {\n",
       "        text-align: right;\n",
       "    }\n",
       "</style>\n",
       "<table border=\"1\" class=\"dataframe\">\n",
       "  <thead>\n",
       "    <tr style=\"text-align: right;\">\n",
       "      <th></th>\n",
       "      <th>id</th>\n",
       "      <th>name</th>\n",
       "      <th>screen_name</th>\n",
       "      <th>statuses_count</th>\n",
       "      <th>followers_count</th>\n",
       "      <th>friends_count</th>\n",
       "      <th>favourites_count</th>\n",
       "      <th>listed_count</th>\n",
       "      <th>created_at</th>\n",
       "      <th>url</th>\n",
       "      <th>...</th>\n",
       "      <th>profile_background_image_url</th>\n",
       "      <th>profile_background_color</th>\n",
       "      <th>profile_link_color</th>\n",
       "      <th>utc_offset</th>\n",
       "      <th>protected</th>\n",
       "      <th>verified</th>\n",
       "      <th>description</th>\n",
       "      <th>updated</th>\n",
       "      <th>dataset</th>\n",
       "      <th>user_type</th>\n",
       "    </tr>\n",
       "  </thead>\n",
       "  <tbody>\n",
       "    <tr>\n",
       "      <td>419</td>\n",
       "      <td>199147059</td>\n",
       "      <td>893</td>\n",
       "      <td>458</td>\n",
       "      <td>30</td>\n",
       "      <td>9</td>\n",
       "      <td>37</td>\n",
       "      <td>0</td>\n",
       "      <td>0</td>\n",
       "      <td>2738</td>\n",
       "      <td>0</td>\n",
       "      <td>...</td>\n",
       "      <td>0</td>\n",
       "      <td>166</td>\n",
       "      <td>12</td>\n",
       "      <td>0.0</td>\n",
       "      <td>0</td>\n",
       "      <td>0</td>\n",
       "      <td>2138</td>\n",
       "      <td>1</td>\n",
       "      <td>0</td>\n",
       "      <td>1</td>\n",
       "    </tr>\n",
       "    <tr>\n",
       "      <td>193</td>\n",
       "      <td>76286424</td>\n",
       "      <td>1835</td>\n",
       "      <td>1822</td>\n",
       "      <td>6212</td>\n",
       "      <td>369</td>\n",
       "      <td>198</td>\n",
       "      <td>103</td>\n",
       "      <td>5</td>\n",
       "      <td>2507</td>\n",
       "      <td>0</td>\n",
       "      <td>...</td>\n",
       "      <td>57</td>\n",
       "      <td>205</td>\n",
       "      <td>254</td>\n",
       "      <td>0.0</td>\n",
       "      <td>0</td>\n",
       "      <td>0</td>\n",
       "      <td>1392</td>\n",
       "      <td>1</td>\n",
       "      <td>0</td>\n",
       "      <td>1</td>\n",
       "    </tr>\n",
       "    <tr>\n",
       "      <td>388</td>\n",
       "      <td>616306719</td>\n",
       "      <td>1753</td>\n",
       "      <td>2182</td>\n",
       "      <td>53</td>\n",
       "      <td>15</td>\n",
       "      <td>578</td>\n",
       "      <td>0</td>\n",
       "      <td>0</td>\n",
       "      <td>1136</td>\n",
       "      <td>0</td>\n",
       "      <td>...</td>\n",
       "      <td>0</td>\n",
       "      <td>166</td>\n",
       "      <td>12</td>\n",
       "      <td>0.0</td>\n",
       "      <td>0</td>\n",
       "      <td>0</td>\n",
       "      <td>2227</td>\n",
       "      <td>0</td>\n",
       "      <td>1</td>\n",
       "      <td>0</td>\n",
       "    </tr>\n",
       "    <tr>\n",
       "      <td>150</td>\n",
       "      <td>57365720</td>\n",
       "      <td>2810</td>\n",
       "      <td>914</td>\n",
       "      <td>6351</td>\n",
       "      <td>98</td>\n",
       "      <td>75</td>\n",
       "      <td>127</td>\n",
       "      <td>4</td>\n",
       "      <td>2062</td>\n",
       "      <td>26</td>\n",
       "      <td>...</td>\n",
       "      <td>0</td>\n",
       "      <td>166</td>\n",
       "      <td>12</td>\n",
       "      <td>0.0</td>\n",
       "      <td>0</td>\n",
       "      <td>0</td>\n",
       "      <td>1326</td>\n",
       "      <td>1</td>\n",
       "      <td>0</td>\n",
       "      <td>1</td>\n",
       "    </tr>\n",
       "    <tr>\n",
       "      <td>941</td>\n",
       "      <td>618262473</td>\n",
       "      <td>2480</td>\n",
       "      <td>2770</td>\n",
       "      <td>30</td>\n",
       "      <td>16</td>\n",
       "      <td>273</td>\n",
       "      <td>0</td>\n",
       "      <td>0</td>\n",
       "      <td>565</td>\n",
       "      <td>0</td>\n",
       "      <td>...</td>\n",
       "      <td>0</td>\n",
       "      <td>166</td>\n",
       "      <td>12</td>\n",
       "      <td>0.0</td>\n",
       "      <td>0</td>\n",
       "      <td>0</td>\n",
       "      <td>889</td>\n",
       "      <td>0</td>\n",
       "      <td>1</td>\n",
       "      <td>0</td>\n",
       "    </tr>\n",
       "  </tbody>\n",
       "</table>\n",
       "<p>5 rows × 35 columns</p>\n",
       "</div>"
      ],
      "text/plain": [
       "            id  name  screen_name  statuses_count  followers_count  \\\n",
       "419  199147059   893          458              30                9   \n",
       "193   76286424  1835         1822            6212              369   \n",
       "388  616306719  1753         2182              53               15   \n",
       "150   57365720  2810          914            6351               98   \n",
       "941  618262473  2480         2770              30               16   \n",
       "\n",
       "     friends_count  favourites_count  listed_count  created_at  url  ...  \\\n",
       "419             37                 0             0        2738    0  ...   \n",
       "193            198               103             5        2507    0  ...   \n",
       "388            578                 0             0        1136    0  ...   \n",
       "150             75               127             4        2062   26  ...   \n",
       "941            273                 0             0         565    0  ...   \n",
       "\n",
       "     profile_background_image_url  profile_background_color  \\\n",
       "419                             0                       166   \n",
       "193                            57                       205   \n",
       "388                             0                       166   \n",
       "150                             0                       166   \n",
       "941                             0                       166   \n",
       "\n",
       "     profile_link_color utc_offset  protected verified  description  updated  \\\n",
       "419                  12        0.0          0        0         2138        1   \n",
       "193                 254        0.0          0        0         1392        1   \n",
       "388                  12        0.0          0        0         2227        0   \n",
       "150                  12        0.0          0        0         1326        1   \n",
       "941                  12        0.0          0        0          889        0   \n",
       "\n",
       "    dataset  user_type  \n",
       "419       0          1  \n",
       "193       0          1  \n",
       "388       1          0  \n",
       "150       0          1  \n",
       "941       1          0  \n",
       "\n",
       "[5 rows x 35 columns]"
      ]
     },
     "execution_count": 22,
     "metadata": {},
     "output_type": "execute_result"
    }
   ],
   "source": [
    "Users1.head()"
   ]
  },
  {
   "cell_type": "code",
   "execution_count": 23,
   "metadata": {},
   "outputs": [],
   "source": [
    "X1=Users1.drop(['id','time_zone','profile_use_background_image','dataset','profile_sidebar_border_color',\n",
    "             'profile_background_image_url_https','profile_background_color','profile_link_color','default_profile_image',\n",
    "             'time_zone','url','utc_offset','profile_background_tile','default_profile','geo_enabled'],axis=1)"
   ]
  },
  {
   "cell_type": "code",
   "execution_count": 24,
   "metadata": {},
   "outputs": [],
   "source": [
    "for cols in X1.columns:\n",
    "        for v in X1[cols].values:\n",
    "            if(isinstance(v,str)):\n",
    "                print(cols)\n",
    "                break"
   ]
  },
  {
   "cell_type": "code",
   "execution_count": 25,
   "metadata": {},
   "outputs": [
    {
     "data": {
      "text/plain": [
       "name                             893\n",
       "screen_name                      458\n",
       "statuses_count                    30\n",
       "followers_count                    9\n",
       "friends_count                     37\n",
       "favourites_count                   0\n",
       "listed_count                       0\n",
       "created_at                      2738\n",
       "lang                               5\n",
       "location                          24\n",
       "profile_image_url                 24\n",
       "profile_banner_url                 0\n",
       "profile_text_color                48\n",
       "profile_image_url_https           24\n",
       "profile_sidebar_fill_color       108\n",
       "profile_background_image_url       0\n",
       "protected                          0\n",
       "verified                           0\n",
       "description                     2138\n",
       "updated                            1\n",
       "user_type                          1\n",
       "Name: 419, dtype: int64"
      ]
     },
     "execution_count": 25,
     "metadata": {},
     "output_type": "execute_result"
    }
   ],
   "source": [
    "X1.iloc[0,:]"
   ]
  },
  {
   "cell_type": "code",
   "execution_count": 26,
   "metadata": {},
   "outputs": [],
   "source": [
    "Y1=Users1['user_type']"
   ]
  },
  {
   "cell_type": "code",
   "execution_count": 27,
   "metadata": {},
   "outputs": [],
   "source": [
    "x_train,x_test,y_train,y_test=train_test_split(X1,Y1,stratify=Y1,test_size=0.3,random_state=43)"
   ]
  },
  {
   "cell_type": "code",
   "execution_count": 28,
   "metadata": {},
   "outputs": [
    {
     "data": {
      "text/plain": [
       "(1972, 21)"
      ]
     },
     "execution_count": 28,
     "metadata": {},
     "output_type": "execute_result"
    }
   ],
   "source": [
    "x_train.shape"
   ]
  },
  {
   "cell_type": "code",
   "execution_count": 29,
   "metadata": {},
   "outputs": [
    {
     "data": {
      "text/plain": [
       "(846, 21)"
      ]
     },
     "execution_count": 29,
     "metadata": {},
     "output_type": "execute_result"
    }
   ],
   "source": [
    "x_test.shape"
   ]
  },
  {
   "cell_type": "code",
   "execution_count": 30,
   "metadata": {},
   "outputs": [],
   "source": [
    "clf=SVC(kernel='linear')"
   ]
  },
  {
   "cell_type": "code",
   "execution_count": 31,
   "metadata": {},
   "outputs": [
    {
     "data": {
      "text/plain": [
       "SVC(C=1.0, cache_size=200, class_weight=None, coef0=0.0,\n",
       "  decision_function_shape='ovr', degree=3, gamma='auto_deprecated',\n",
       "  kernel='linear', max_iter=-1, probability=False, random_state=None,\n",
       "  shrinking=True, tol=0.001, verbose=False)"
      ]
     },
     "execution_count": 31,
     "metadata": {},
     "output_type": "execute_result"
    }
   ],
   "source": [
    "clf.fit(x_train,y_train)"
   ]
  },
  {
   "cell_type": "code",
   "execution_count": 32,
   "metadata": {},
   "outputs": [],
   "source": [
    "acc_svm=clf.score(x_test,y_test)"
   ]
  },
  {
   "cell_type": "code",
   "execution_count": 33,
   "metadata": {},
   "outputs": [],
   "source": [
    "cm1=confusion_matrix(clf.predict(x_test),y_test)"
   ]
  },
  {
   "cell_type": "code",
   "execution_count": 34,
   "metadata": {},
   "outputs": [
    {
     "data": {
      "text/plain": [
       "<matplotlib.axes._subplots.AxesSubplot at 0x1fd6948b5f8>"
      ]
     },
     "execution_count": 34,
     "metadata": {},
     "output_type": "execute_result"
    },
    {
     "data": {
      "image/png": "[encoded data removed]",
      "text/plain": [
       "<Figure size 432x288 with 2 Axes>"
      ]
     },
     "metadata": {
      "needs_background": "light"
     },
     "output_type": "display_data"
    }
   ],
   "source": [
    "sns.heatmap(cm1,annot=True,fmt='d')"
   ]
  },
  {
   "cell_type": "code",
   "execution_count": 35,
   "metadata": {},
   "outputs": [],
   "source": [
    "clf2=GaussianNB()\n"
   ]
  },
  {
   "cell_type": "code",
   "execution_count": 36,
   "metadata": {},
   "outputs": [
    {
     "data": {
      "text/plain": [
       "GaussianNB(priors=None, var_smoothing=1e-09)"
      ]
     },
     "execution_count": 36,
     "metadata": {},
     "output_type": "execute_result"
    }
   ],
   "source": [
    "clf2.fit(x_train,y_train)"
   ]
  },
  {
   "cell_type": "code",
   "execution_count": 37,
   "metadata": {},
   "outputs": [],
   "source": [
    "acc_NB=clf2.score(x_test,y_test)"
   ]
  },
  {
   "cell_type": "code",
   "execution_count": 38,
   "metadata": {},
   "outputs": [],
   "source": [
    "cm2=confusion_matrix(clf2.predict(x_test),y_test)"
   ]
  },
  {
   "cell_type": "code",
   "execution_count": 39,
   "metadata": {},
   "outputs": [
    {
     "data": {
      "text/plain": [
       "<matplotlib.axes._subplots.AxesSubplot at 0x1fd69701470>"
      ]
     },
     "execution_count": 39,
     "metadata": {},
     "output_type": "execute_result"
    },
    {
     "data": {
      "image/png": "[encoded data removed]",
      "text/plain": [
       "<Figure size 432x288 with 2 Axes>"
      ]
     },
     "metadata": {
      "needs_background": "light"
     },
     "output_type": "display_data"
    }
   ],
   "source": [
    "sns.heatmap(cm2,annot=True,fmt=\"d\",cmap='RdBu_r')"
   ]
  },
  {
   "cell_type": "code",
   "execution_count": 40,
   "metadata": {},
   "outputs": [],
   "source": [
    "clf3=RandomForestClassifier(n_estimators=200)"
   ]
  },
  {
   "cell_type": "code",
   "execution_count": 41,
   "metadata": {},
   "outputs": [
    {
     "data": {
      "text/plain": [
       "RandomForestClassifier(bootstrap=True, class_weight=None, criterion='gini',\n",
       "            max_depth=None, max_features='auto', max_leaf_nodes=None,\n",
       "            min_impurity_decrease=0.0, min_impurity_split=None,\n",
       "            min_samples_leaf=1, min_samples_split=2,\n",
       "            min_weight_fraction_leaf=0.0, n_estimators=200, n_jobs=None,\n",
       "            oob_score=False, random_state=None, verbose=0,\n",
       "            warm_start=False)"
      ]
     },
     "execution_count": 41,
     "metadata": {},
     "output_type": "execute_result"
    }
   ],
   "source": [
    "clf3.fit(x_train,y_train)"
   ]
  },
  {
   "cell_type": "code",
   "execution_count": 42,
   "metadata": {},
   "outputs": [],
   "source": [
    "acc_RF=clf3.score(x_test,y_test)"
   ]
  },
  {
   "cell_type": "code",
   "execution_count": 43,
   "metadata": {},
   "outputs": [],
   "source": [
    "cm3=confusion_matrix(clf3.predict(x_test),y_test)"
   ]
  },
  {
   "cell_type": "code",
   "execution_count": 44,
   "metadata": {},
   "outputs": [
    {
     "data": {
      "text/plain": [
       "<matplotlib.axes._subplots.AxesSubplot at 0x1fd69a33240>"
      ]
     },
     "execution_count": 44,
     "metadata": {},
     "output_type": "execute_result"
    },
    {
     "data": {
      "image/png": "[encoded data removed]",
      "text/plain": [
       "<Figure size 432x288 with 2 Axes>"
      ]
     },
     "metadata": {
      "needs_background": "light"
     },
     "output_type": "display_data"
    }
   ],
   "source": [
    "sns.heatmap(cm3,annot=True,fmt=\"d\",cmap='Blues')"
   ]
  },
  {
   "cell_type": "code",
   "execution_count": 45,
   "metadata": {},
   "outputs": [],
   "source": [
    "acc_list=[acc_svm,acc_NB,acc_RF]"
   ]
  },
  {
   "cell_type": "code",
   "execution_count": 46,
   "metadata": {},
   "outputs": [],
   "source": [
    "algo=['SVM','NB','RF']"
   ]
  },
  {
   "cell_type": "code",
   "execution_count": 47,
   "metadata": {},
   "outputs": [
    {
     "data": {
      "text/plain": [
       "0.9964539007092199"
      ]
     },
     "execution_count": 47,
     "metadata": {},
     "output_type": "execute_result"
    }
   ],
   "source": [
    "acc_svm"
   ]
  },
  {
   "cell_type": "code",
   "execution_count": 48,
   "metadata": {},
   "outputs": [
    {
     "data": {
      "text/plain": [
       "0.9929078014184397"
      ]
     },
     "execution_count": 48,
     "metadata": {},
     "output_type": "execute_result"
    }
   ],
   "source": [
    "acc_NB"
   ]
  },
  {
   "cell_type": "code",
   "execution_count": 49,
   "metadata": {},
   "outputs": [
    {
     "data": {
      "text/plain": [
       "1.0"
      ]
     },
     "execution_count": 49,
     "metadata": {},
     "output_type": "execute_result"
    }
   ],
   "source": [
    "acc_RF"
   ]
  },
  {
   "cell_type": "code",
   "execution_count": 50,
   "metadata": {
    "scrolled": true
   },
   "outputs": [
    {
     "data": {
      "text/plain": [
       "<BarContainer object of 3 artists>"
      ]
     },
     "execution_count": 50,
     "metadata": {},
     "output_type": "execute_result"
    },
    {
     "data": {
      "image/png": "[encoded data removed]",
      "text/plain": [
       "<Figure size 432x288 with 1 Axes>"
      ]
     },
     "metadata": {
      "needs_background": "light"
     },
     "output_type": "display_data"
    }
   ],
   "source": [
    "plt.bar(algo,acc_list)"
   ]
  },
  {
   "cell_type": "code",
   "execution_count": 72,
   "metadata": {},
   "outputs": [
    {
     "data": {
      "text/plain": [
       "<BarContainer object of 1 artists>"
      ]
     },
     "execution_count": 72,
     "metadata": {},
     "output_type": "execute_result"
    },
    {
     "data": {
      "image/png": "[encoded data removed]",
      "text/plain": [
       "<Figure size 432x288 with 1 Axes>"
      ]
     },
     "metadata": {
      "needs_background": "light"
     },
     "output_type": "display_data"
    }
   ],
   "source": []
  },
  {
   "cell_type": "code",
   "execution_count": 51,
   "metadata": {},
   "outputs": [],
   "source": [
    "Users2=Users_text\n",
    "for cols in Users_text.columns:\n",
    "    if(isinstance(Users_text[cols].values[0],str)):\n",
    "        pass\n",
    "    else:\n",
    "        Users_text=Users_text.drop(cols,axis=1)   "
   ]
  },
  {
   "cell_type": "code",
   "execution_count": 52,
   "metadata": {},
   "outputs": [
    {
     "data": {
      "text/html": [
       "<div>\n",
       "<style scoped>\n",
       "    .dataframe tbody tr th:only-of-type {\n",
       "        vertical-align: middle;\n",
       "    }\n",
       "\n",
       "    .dataframe tbody tr th {\n",
       "        vertical-align: top;\n",
       "    }\n",
       "\n",
       "    .dataframe thead th {\n",
       "        text-align: right;\n",
       "    }\n",
       "</style>\n",
       "<table border=\"1\" class=\"dataframe\">\n",
       "  <thead>\n",
       "    <tr style=\"text-align: right;\">\n",
       "      <th></th>\n",
       "      <th>name</th>\n",
       "      <th>screen_name</th>\n",
       "      <th>created_at</th>\n",
       "      <th>url</th>\n",
       "      <th>lang</th>\n",
       "      <th>time_zone</th>\n",
       "      <th>location</th>\n",
       "      <th>default_profile_image</th>\n",
       "      <th>profile_image_url</th>\n",
       "      <th>profile_banner_url</th>\n",
       "      <th>...</th>\n",
       "      <th>profile_sidebar_fill_color</th>\n",
       "      <th>profile_background_image_url</th>\n",
       "      <th>profile_background_color</th>\n",
       "      <th>profile_link_color</th>\n",
       "      <th>utc_offset</th>\n",
       "      <th>protected</th>\n",
       "      <th>verified</th>\n",
       "      <th>description</th>\n",
       "      <th>updated</th>\n",
       "      <th>dataset</th>\n",
       "    </tr>\n",
       "  </thead>\n",
       "  <tbody>\n",
       "    <tr>\n",
       "      <td>419</td>\n",
       "      <td>Francesco Calaprice</td>\n",
       "      <td>Kekkodux</td>\n",
       "      <td>Wed Oct 06 04:18:21 +0000 2010</td>\n",
       "      <td></td>\n",
       "      <td>it</td>\n",
       "      <td></td>\n",
       "      <td>41.001606,16.876919</td>\n",
       "      <td></td>\n",
       "      <td>http://a0.twimg.com/profile_images/1252186265/...</td>\n",
       "      <td></td>\n",
       "      <td>...</td>\n",
       "      <td>DDEEF6</td>\n",
       "      <td>http://a0.twimg.com/images/themes/theme1/bg.png</td>\n",
       "      <td>C0DEED</td>\n",
       "      <td>0084B4</td>\n",
       "      <td></td>\n",
       "      <td></td>\n",
       "      <td></td>\n",
       "      <td>esperto in informatica e prodotti di hi-tech.</td>\n",
       "      <td>2015-02-14 10:54:49</td>\n",
       "      <td>E13</td>\n",
       "    </tr>\n",
       "    <tr>\n",
       "      <td>193</td>\n",
       "      <td>Namaste</td>\n",
       "      <td>jole_bee</td>\n",
       "      <td>Tue Sep 22 08:48:06 +0000 2009</td>\n",
       "      <td></td>\n",
       "      <td>it</td>\n",
       "      <td>Rome</td>\n",
       "      <td></td>\n",
       "      <td></td>\n",
       "      <td>http://a0.twimg.com/profile_images/3322798528/...</td>\n",
       "      <td>https://si0.twimg.com/profile_banners/76286424...</td>\n",
       "      <td>...</td>\n",
       "      <td>EDD5EC</td>\n",
       "      <td>http://a0.twimg.com/profile_background_images/...</td>\n",
       "      <td>E1E6E8</td>\n",
       "      <td>B30048</td>\n",
       "      <td>3600</td>\n",
       "      <td></td>\n",
       "      <td></td>\n",
       "      <td>Non so quello che dico,ma lo dico veramente be...</td>\n",
       "      <td>2015-02-14 10:54:49</td>\n",
       "      <td>E13</td>\n",
       "    </tr>\n",
       "    <tr>\n",
       "      <td>388</td>\n",
       "      <td>Mica Spence</td>\n",
       "      <td>micaspencecghbb</td>\n",
       "      <td>Sat Jun 23 15:54:54 +0000 2012</td>\n",
       "      <td></td>\n",
       "      <td>en</td>\n",
       "      <td></td>\n",
       "      <td>Never Hard To Find .</td>\n",
       "      <td></td>\n",
       "      <td>http://a0.twimg.com/profile_images/3292574515/...</td>\n",
       "      <td></td>\n",
       "      <td>...</td>\n",
       "      <td>DDEEF6</td>\n",
       "      <td>http://a0.twimg.com/images/themes/theme1/bg.png</td>\n",
       "      <td>C0DEED</td>\n",
       "      <td>0084B4</td>\n",
       "      <td></td>\n",
       "      <td></td>\n",
       "      <td></td>\n",
       "      <td>i like gettin money,girls,soppin and hoopin ll...</td>\n",
       "      <td>2015-02-14 10:40:01</td>\n",
       "      <td>INT</td>\n",
       "    </tr>\n",
       "    <tr>\n",
       "      <td>150</td>\n",
       "      <td></td>\n",
       "      <td>acimoto</td>\n",
       "      <td>Thu Jul 16 15:48:10 +0000 2009</td>\n",
       "      <td>http://byoblu.com</td>\n",
       "      <td>it</td>\n",
       "      <td>Rome</td>\n",
       "      <td>Genova, Italian Sultanate</td>\n",
       "      <td></td>\n",
       "      <td>http://a0.twimg.com/profile_images/2650702872/...</td>\n",
       "      <td>https://si0.twimg.com/profile_banners/57365720...</td>\n",
       "      <td>...</td>\n",
       "      <td>DDEEF6</td>\n",
       "      <td>http://a0.twimg.com/images/themes/theme1/bg.png</td>\n",
       "      <td>C0DEED</td>\n",
       "      <td>0084B4</td>\n",
       "      <td>3600</td>\n",
       "      <td></td>\n",
       "      <td></td>\n",
       "      <td>N.1</td>\n",
       "      <td>2015-02-14 10:54:49</td>\n",
       "      <td>E13</td>\n",
       "    </tr>\n",
       "    <tr>\n",
       "      <td>941</td>\n",
       "      <td>Willette Hayes</td>\n",
       "      <td>willettehay</td>\n",
       "      <td>Mon Jun 25 15:24:56 +0000 2012</td>\n",
       "      <td></td>\n",
       "      <td>en</td>\n",
       "      <td></td>\n",
       "      <td>Springtown, Texas</td>\n",
       "      <td></td>\n",
       "      <td>http://a0.twimg.com/profile_images/2961990422/...</td>\n",
       "      <td></td>\n",
       "      <td>...</td>\n",
       "      <td>DDEEF6</td>\n",
       "      <td>http://a0.twimg.com/images/themes/theme1/bg.png</td>\n",
       "      <td>C0DEED</td>\n",
       "      <td>0084B4</td>\n",
       "      <td></td>\n",
       "      <td></td>\n",
       "      <td></td>\n",
       "      <td>I love t Act, Sing and Dance</td>\n",
       "      <td>2015-02-14 10:40:01</td>\n",
       "      <td>INT</td>\n",
       "    </tr>\n",
       "  </tbody>\n",
       "</table>\n",
       "<p>5 rows × 25 columns</p>\n",
       "</div>"
      ],
      "text/plain": [
       "                    name      screen_name                      created_at  \\\n",
       "419  Francesco Calaprice         Kekkodux  Wed Oct 06 04:18:21 +0000 2010   \n",
       "193              Namaste         jole_bee  Tue Sep 22 08:48:06 +0000 2009   \n",
       "388          Mica Spence  micaspencecghbb  Sat Jun 23 15:54:54 +0000 2012   \n",
       "150                              acimoto  Thu Jul 16 15:48:10 +0000 2009   \n",
       "941       Willette Hayes      willettehay  Mon Jun 25 15:24:56 +0000 2012   \n",
       "\n",
       "                   url lang time_zone                   location  \\\n",
       "419                      it                  41.001606,16.876919   \n",
       "193                      it      Rome                              \n",
       "388                      en                 Never Hard To Find .   \n",
       "150  http://byoblu.com   it      Rome  Genova, Italian Sultanate   \n",
       "941                      en                    Springtown, Texas   \n",
       "\n",
       "    default_profile_image                                  profile_image_url  \\\n",
       "419                        http://a0.twimg.com/profile_images/1252186265/...   \n",
       "193                        http://a0.twimg.com/profile_images/3322798528/...   \n",
       "388                        http://a0.twimg.com/profile_images/3292574515/...   \n",
       "150                        http://a0.twimg.com/profile_images/2650702872/...   \n",
       "941                        http://a0.twimg.com/profile_images/2961990422/...   \n",
       "\n",
       "                                    profile_banner_url  ...  \\\n",
       "419                                                     ...   \n",
       "193  https://si0.twimg.com/profile_banners/76286424...  ...   \n",
       "388                                                     ...   \n",
       "150  https://si0.twimg.com/profile_banners/57365720...  ...   \n",
       "941                                                     ...   \n",
       "\n",
       "    profile_sidebar_fill_color  \\\n",
       "419                     DDEEF6   \n",
       "193                     EDD5EC   \n",
       "388                     DDEEF6   \n",
       "150                     DDEEF6   \n",
       "941                     DDEEF6   \n",
       "\n",
       "                          profile_background_image_url  \\\n",
       "419    http://a0.twimg.com/images/themes/theme1/bg.png   \n",
       "193  http://a0.twimg.com/profile_background_images/...   \n",
       "388    http://a0.twimg.com/images/themes/theme1/bg.png   \n",
       "150    http://a0.twimg.com/images/themes/theme1/bg.png   \n",
       "941    http://a0.twimg.com/images/themes/theme1/bg.png   \n",
       "\n",
       "    profile_background_color profile_link_color utc_offset protected verified  \\\n",
       "419                   C0DEED             0084B4                                 \n",
       "193                   E1E6E8             B30048       3600                      \n",
       "388                   C0DEED             0084B4                                 \n",
       "150                   C0DEED             0084B4       3600                      \n",
       "941                   C0DEED             0084B4                                 \n",
       "\n",
       "                                           description              updated  \\\n",
       "419      esperto in informatica e prodotti di hi-tech.  2015-02-14 10:54:49   \n",
       "193  Non so quello che dico,ma lo dico veramente be...  2015-02-14 10:54:49   \n",
       "388  i like gettin money,girls,soppin and hoopin ll...  2015-02-14 10:40:01   \n",
       "150                                                N.1  2015-02-14 10:54:49   \n",
       "941                       I love t Act, Sing and Dance  2015-02-14 10:40:01   \n",
       "\n",
       "    dataset  \n",
       "419     E13  \n",
       "193     E13  \n",
       "388     INT  \n",
       "150     E13  \n",
       "941     INT  \n",
       "\n",
       "[5 rows x 25 columns]"
      ]
     },
     "execution_count": 52,
     "metadata": {},
     "output_type": "execute_result"
    }
   ],
   "source": [
    "Users_text.head()"
   ]
  },
  {
   "cell_type": "code",
   "execution_count": 53,
   "metadata": {},
   "outputs": [
    {
     "data": {
      "text/plain": [
       "name                                  0\n",
       "screen_name                           0\n",
       "created_at                            0\n",
       "url                                   0\n",
       "lang                                  0\n",
       "time_zone                             0\n",
       "location                              0\n",
       "default_profile_image                 0\n",
       "profile_image_url                     0\n",
       "profile_banner_url                    0\n",
       "profile_background_image_url_https    0\n",
       "profile_text_color                    0\n",
       "profile_image_url_https               0\n",
       "profile_sidebar_border_color          0\n",
       "profile_background_tile               0\n",
       "profile_sidebar_fill_color            0\n",
       "profile_background_image_url          0\n",
       "profile_background_color              0\n",
       "profile_link_color                    0\n",
       "utc_offset                            0\n",
       "protected                             0\n",
       "verified                              0\n",
       "description                           0\n",
       "updated                               0\n",
       "dataset                               0\n",
       "dtype: int64"
      ]
     },
     "execution_count": 53,
     "metadata": {},
     "output_type": "execute_result"
    }
   ],
   "source": [
    "Users_text.isnull().sum()"
   ]
  },
  {
   "cell_type": "code",
   "execution_count": 54,
   "metadata": {},
   "outputs": [],
   "source": [
    "x=Users_text['description']"
   ]
  },
  {
   "cell_type": "code",
   "execution_count": 55,
   "metadata": {},
   "outputs": [
    {
     "data": {
      "text/plain": [
       "419         esperto in informatica e prodotti di hi-tech.\n",
       "193     Non so quello che dico,ma lo dico veramente be...\n",
       "388     i like gettin money,girls,soppin and hoopin ll...\n",
       "150                                                   N.1\n",
       "941                          I love t Act, Sing and Dance\n",
       "                              ...                        \n",
       "184                           Amante di Cinema e Serie TV\n",
       "1185    Dear Isis (eye-si) is the hottest, new site wh...\n",
       "782                                                      \n",
       "1350         Prof precaria, studio cinema e letteratura. \n",
       "1244    Social edia and marketing - I follow evryone w...\n",
       "Name: description, Length: 2818, dtype: object"
      ]
     },
     "execution_count": 55,
     "metadata": {},
     "output_type": "execute_result"
    }
   ],
   "source": [
    "x"
   ]
  },
  {
   "cell_type": "code",
   "execution_count": 56,
   "metadata": {},
   "outputs": [],
   "source": [
    "y=Users1['user_type']"
   ]
  },
  {
   "cell_type": "code",
   "execution_count": 57,
   "metadata": {},
   "outputs": [],
   "source": [
    "tfidf=TfidfVectorizer(sublinear_tf=True,min_df=2,ngram_range=(1,2),stop_words='english')"
   ]
  },
  {
   "cell_type": "code",
   "execution_count": 58,
   "metadata": {},
   "outputs": [],
   "source": [
    "features=tfidf.fit_transform(x).toarray()"
   ]
  },
  {
   "cell_type": "code",
   "execution_count": 59,
   "metadata": {},
   "outputs": [
    {
     "data": {
      "text/plain": [
       "(2818, 3806)"
      ]
     },
     "execution_count": 59,
     "metadata": {},
     "output_type": "execute_result"
    }
   ],
   "source": [
    "features.shape"
   ]
  },
  {
   "cell_type": "code",
   "execution_count": null,
   "metadata": {},
   "outputs": [],
   "source": []
  },
  {
   "cell_type": "code",
   "execution_count": 60,
   "metadata": {},
   "outputs": [
    {
     "data": {
      "text/plain": [
       "(2818,)"
      ]
     },
     "execution_count": 60,
     "metadata": {},
     "output_type": "execute_result"
    }
   ],
   "source": [
    "y.shape"
   ]
  },
  {
   "cell_type": "code",
   "execution_count": 61,
   "metadata": {},
   "outputs": [],
   "source": [
    "x_train,x_test,y_train,y_test=train_test_split(features,y,stratify=y,test_size=0.3,random_state=43)"
   ]
  },
  {
   "cell_type": "code",
   "execution_count": 62,
   "metadata": {},
   "outputs": [],
   "source": [
    "clf=RandomForestClassifier(n_estimators=200)"
   ]
  },
  {
   "cell_type": "code",
   "execution_count": 63,
   "metadata": {},
   "outputs": [
    {
     "data": {
      "text/plain": [
       "RandomForestClassifier(bootstrap=True, class_weight=None, criterion='gini',\n",
       "            max_depth=None, max_features='auto', max_leaf_nodes=None,\n",
       "            min_impurity_decrease=0.0, min_impurity_split=None,\n",
       "            min_samples_leaf=1, min_samples_split=2,\n",
       "            min_weight_fraction_leaf=0.0, n_estimators=200, n_jobs=None,\n",
       "            oob_score=False, random_state=None, verbose=0,\n",
       "            warm_start=False)"
      ]
     },
     "execution_count": 63,
     "metadata": {},
     "output_type": "execute_result"
    }
   ],
   "source": [
    "clf.fit(x_train,y_train)"
   ]
  },
  {
   "cell_type": "code",
   "execution_count": 64,
   "metadata": {},
   "outputs": [
    {
     "data": {
      "text/plain": [
       "0.8085106382978723"
      ]
     },
     "execution_count": 64,
     "metadata": {},
     "output_type": "execute_result"
    }
   ],
   "source": [
    "clf.score(x_test,y_test)"
   ]
  },
  {
   "cell_type": "code",
   "execution_count": 65,
   "metadata": {},
   "outputs": [],
   "source": [
    "error_rate=[]\n",
    "for i in range(50,300,20):\n",
    "    clf=RandomForestClassifier(n_estimators=i)\n",
    "    clf.fit(x_train,y_train)\n",
    "    pred_i=clf.predict(x_test)\n",
    "    error_rate.append(np.mean(pred_i != y_test))"
   ]
  },
  {
   "cell_type": "code",
   "execution_count": 66,
   "metadata": {},
   "outputs": [
    {
     "data": {
      "text/plain": [
       "Text(0, 0.5, 'Error rate')"
      ]
     },
     "execution_count": 66,
     "metadata": {},
     "output_type": "execute_result"
    },
    {
     "data": {
      "image/png": "[encoded data removed]",
      "text/plain": [
       "<Figure size 720x432 with 1 Axes>"
      ]
     },
     "metadata": {
      "needs_background": "light"
     },
     "output_type": "display_data"
    }
   ],
   "source": [
    "plt.figure(figsize=(10,6))\n",
    "plt.plot(range(50,300,20),error_rate,color=\"blue\", linestyle=\"dashed\", marker=\"o\",\n",
    " markerfacecolor=\"red\", markersize=10)\n",
    "plt.title('Error Rate vs. n_estimators')\n",
    "plt.xticks(range(50,300,20))\n",
    "plt.xlabel(\"n_estimators\")\n",
    "plt.ylabel(\"Error rate\")"
   ]
  },
  {
   "cell_type": "code",
   "execution_count": 67,
   "metadata": {},
   "outputs": [],
   "source": [
    "clf=RandomForestClassifier(n_estimators=90)"
   ]
  },
  {
   "cell_type": "code",
   "execution_count": 68,
   "metadata": {},
   "outputs": [
    {
     "data": {
      "text/plain": [
       "RandomForestClassifier(bootstrap=True, class_weight=None, criterion='gini',\n",
       "            max_depth=None, max_features='auto', max_leaf_nodes=None,\n",
       "            min_impurity_decrease=0.0, min_impurity_split=None,\n",
       "            min_samples_leaf=1, min_samples_split=2,\n",
       "            min_weight_fraction_leaf=0.0, n_estimators=90, n_jobs=None,\n",
       "            oob_score=False, random_state=None, verbose=0,\n",
       "            warm_start=False)"
      ]
     },
     "execution_count": 68,
     "metadata": {},
     "output_type": "execute_result"
    }
   ],
   "source": [
    "clf.fit(x_train,y_train)"
   ]
  },
  {
   "cell_type": "code",
   "execution_count": 69,
   "metadata": {},
   "outputs": [
    {
     "data": {
      "text/plain": [
       "0.8073286052009456"
      ]
     },
     "execution_count": 69,
     "metadata": {},
     "output_type": "execute_result"
    }
   ],
   "source": [
    "\n",
    "clf.score(x_test,y_test)"
   ]
  },
  {
   "cell_type": "code",
   "execution_count": null,
   "metadata": {},
   "outputs": [],
   "source": [
    "plt.bar()"
   ]
  }
 ],
 "metadata": {
  "kernelspec": {
   "display_name": "Python 3",
   "language": "python",
   "name": "python3"
  },
  "language_info": {
   "codemirror_mode": {
    "name": "ipython",
    "version": 3
   },
   "file_extension": ".py",
   "mimetype": "text/x-python",
   "name": "python",
   "nbconvert_exporter": "python",
   "pygments_lexer": "ipython3",
   "version": "3.7.1"
  }
 },
 "nbformat": 4,
 "nbformat_minor": 2
}
